{
  "cells": [
    {
      "cell_type": "markdown",
      "metadata": {
        "id": "view-in-github",
        "colab_type": "text"
      },
      "source": [
        "<a href=\"https://colab.research.google.com/github/SavannahWithAnH/Neural_Networks/blob/main/neural_networks_optimized.ipynb\" target=\"_parent\"><img src=\"https://colab.research.google.com/assets/colab-badge.svg\" alt=\"Open In Colab\"/></a>"
      ]
    },
    {
      "cell_type": "markdown",
      "metadata": {
        "id": "KzXIsNh4WXWl"
      },
      "source": [
        "## Preprocessing"
      ]
    },
    {
      "cell_type": "code",
      "execution_count": null,
      "metadata": {
        "colab": {
          "base_uri": "https://localhost:8080/",
          "height": 406
        },
        "id": "dAtQIZEnWXWp",
        "outputId": "f76b0de8-239e-407f-da48-bb608a98fc62"
      },
      "outputs": [
        {
          "output_type": "execute_result",
          "data": {
            "text/plain": [
              "        EIN                                      NAME APPLICATION_TYPE  \\\n",
              "0  10520599              BLUE KNIGHTS MOTORCYCLE CLUB              T10   \n",
              "1  10531628    AMERICAN CHESAPEAKE CLUB CHARITABLE TR               T3   \n",
              "2  10547893        ST CLOUD PROFESSIONAL FIREFIGHTERS               T5   \n",
              "3  10553066            SOUTHSIDE ATHLETIC ASSOCIATION               T3   \n",
              "4  10556103  GENETIC RESEARCH INSTITUTE OF THE DESERT               T3   \n",
              "\n",
              "        AFFILIATION CLASSIFICATION      USE_CASE  ORGANIZATION  STATUS  \\\n",
              "0       Independent          C1000    ProductDev   Association       1   \n",
              "1       Independent          C2000  Preservation  Co-operative       1   \n",
              "2  CompanySponsored          C3000    ProductDev   Association       1   \n",
              "3  CompanySponsored          C2000  Preservation         Trust       1   \n",
              "4       Independent          C1000     Heathcare         Trust       1   \n",
              "\n",
              "      INCOME_AMT SPECIAL_CONSIDERATIONS  ASK_AMT  IS_SUCCESSFUL  \n",
              "0              0                      N     5000              1  \n",
              "1         1-9999                      N   108590              1  \n",
              "2              0                      N     5000              0  \n",
              "3    10000-24999                      N     6692              1  \n",
              "4  100000-499999                      N   142590              1  "
            ],
            "text/html": [
              "\n",
              "\n",
              "  <div id=\"df-84fac6b7-00a5-465b-b277-cfd3cd315641\">\n",
              "    <div class=\"colab-df-container\">\n",
              "      <div>\n",
              "<style scoped>\n",
              "    .dataframe tbody tr th:only-of-type {\n",
              "        vertical-align: middle;\n",
              "    }\n",
              "\n",
              "    .dataframe tbody tr th {\n",
              "        vertical-align: top;\n",
              "    }\n",
              "\n",
              "    .dataframe thead th {\n",
              "        text-align: right;\n",
              "    }\n",
              "</style>\n",
              "<table border=\"1\" class=\"dataframe\">\n",
              "  <thead>\n",
              "    <tr style=\"text-align: right;\">\n",
              "      <th></th>\n",
              "      <th>EIN</th>\n",
              "      <th>NAME</th>\n",
              "      <th>APPLICATION_TYPE</th>\n",
              "      <th>AFFILIATION</th>\n",
              "      <th>CLASSIFICATION</th>\n",
              "      <th>USE_CASE</th>\n",
              "      <th>ORGANIZATION</th>\n",
              "      <th>STATUS</th>\n",
              "      <th>INCOME_AMT</th>\n",
              "      <th>SPECIAL_CONSIDERATIONS</th>\n",
              "      <th>ASK_AMT</th>\n",
              "      <th>IS_SUCCESSFUL</th>\n",
              "    </tr>\n",
              "  </thead>\n",
              "  <tbody>\n",
              "    <tr>\n",
              "      <th>0</th>\n",
              "      <td>10520599</td>\n",
              "      <td>BLUE KNIGHTS MOTORCYCLE CLUB</td>\n",
              "      <td>T10</td>\n",
              "      <td>Independent</td>\n",
              "      <td>C1000</td>\n",
              "      <td>ProductDev</td>\n",
              "      <td>Association</td>\n",
              "      <td>1</td>\n",
              "      <td>0</td>\n",
              "      <td>N</td>\n",
              "      <td>5000</td>\n",
              "      <td>1</td>\n",
              "    </tr>\n",
              "    <tr>\n",
              "      <th>1</th>\n",
              "      <td>10531628</td>\n",
              "      <td>AMERICAN CHESAPEAKE CLUB CHARITABLE TR</td>\n",
              "      <td>T3</td>\n",
              "      <td>Independent</td>\n",
              "      <td>C2000</td>\n",
              "      <td>Preservation</td>\n",
              "      <td>Co-operative</td>\n",
              "      <td>1</td>\n",
              "      <td>1-9999</td>\n",
              "      <td>N</td>\n",
              "      <td>108590</td>\n",
              "      <td>1</td>\n",
              "    </tr>\n",
              "    <tr>\n",
              "      <th>2</th>\n",
              "      <td>10547893</td>\n",
              "      <td>ST CLOUD PROFESSIONAL FIREFIGHTERS</td>\n",
              "      <td>T5</td>\n",
              "      <td>CompanySponsored</td>\n",
              "      <td>C3000</td>\n",
              "      <td>ProductDev</td>\n",
              "      <td>Association</td>\n",
              "      <td>1</td>\n",
              "      <td>0</td>\n",
              "      <td>N</td>\n",
              "      <td>5000</td>\n",
              "      <td>0</td>\n",
              "    </tr>\n",
              "    <tr>\n",
              "      <th>3</th>\n",
              "      <td>10553066</td>\n",
              "      <td>SOUTHSIDE ATHLETIC ASSOCIATION</td>\n",
              "      <td>T3</td>\n",
              "      <td>CompanySponsored</td>\n",
              "      <td>C2000</td>\n",
              "      <td>Preservation</td>\n",
              "      <td>Trust</td>\n",
              "      <td>1</td>\n",
              "      <td>10000-24999</td>\n",
              "      <td>N</td>\n",
              "      <td>6692</td>\n",
              "      <td>1</td>\n",
              "    </tr>\n",
              "    <tr>\n",
              "      <th>4</th>\n",
              "      <td>10556103</td>\n",
              "      <td>GENETIC RESEARCH INSTITUTE OF THE DESERT</td>\n",
              "      <td>T3</td>\n",
              "      <td>Independent</td>\n",
              "      <td>C1000</td>\n",
              "      <td>Heathcare</td>\n",
              "      <td>Trust</td>\n",
              "      <td>1</td>\n",
              "      <td>100000-499999</td>\n",
              "      <td>N</td>\n",
              "      <td>142590</td>\n",
              "      <td>1</td>\n",
              "    </tr>\n",
              "  </tbody>\n",
              "</table>\n",
              "</div>\n",
              "      <button class=\"colab-df-convert\" onclick=\"convertToInteractive('df-84fac6b7-00a5-465b-b277-cfd3cd315641')\"\n",
              "              title=\"Convert this dataframe to an interactive table.\"\n",
              "              style=\"display:none;\">\n",
              "\n",
              "  <svg xmlns=\"http://www.w3.org/2000/svg\" height=\"24px\"viewBox=\"0 0 24 24\"\n",
              "       width=\"24px\">\n",
              "    <path d=\"M0 0h24v24H0V0z\" fill=\"none\"/>\n",
              "    <path d=\"M18.56 5.44l.94 2.06.94-2.06 2.06-.94-2.06-.94-.94-2.06-.94 2.06-2.06.94zm-11 1L8.5 8.5l.94-2.06 2.06-.94-2.06-.94L8.5 2.5l-.94 2.06-2.06.94zm10 10l.94 2.06.94-2.06 2.06-.94-2.06-.94-.94-2.06-.94 2.06-2.06.94z\"/><path d=\"M17.41 7.96l-1.37-1.37c-.4-.4-.92-.59-1.43-.59-.52 0-1.04.2-1.43.59L10.3 9.45l-7.72 7.72c-.78.78-.78 2.05 0 2.83L4 21.41c.39.39.9.59 1.41.59.51 0 1.02-.2 1.41-.59l7.78-7.78 2.81-2.81c.8-.78.8-2.07 0-2.86zM5.41 20L4 18.59l7.72-7.72 1.47 1.35L5.41 20z\"/>\n",
              "  </svg>\n",
              "      </button>\n",
              "\n",
              "\n",
              "\n",
              "    <div id=\"df-cddd3175-a261-4f3a-91b8-d49a828c0359\">\n",
              "      <button class=\"colab-df-quickchart\" onclick=\"quickchart('df-cddd3175-a261-4f3a-91b8-d49a828c0359')\"\n",
              "              title=\"Suggest charts.\"\n",
              "              style=\"display:none;\">\n",
              "\n",
              "<svg xmlns=\"http://www.w3.org/2000/svg\" height=\"24px\"viewBox=\"0 0 24 24\"\n",
              "     width=\"24px\">\n",
              "    <g>\n",
              "        <path d=\"M19 3H5c-1.1 0-2 .9-2 2v14c0 1.1.9 2 2 2h14c1.1 0 2-.9 2-2V5c0-1.1-.9-2-2-2zM9 17H7v-7h2v7zm4 0h-2V7h2v10zm4 0h-2v-4h2v4z\"/>\n",
              "    </g>\n",
              "</svg>\n",
              "      </button>\n",
              "    </div>\n",
              "\n",
              "<style>\n",
              "  .colab-df-quickchart {\n",
              "    background-color: #E8F0FE;\n",
              "    border: none;\n",
              "    border-radius: 50%;\n",
              "    cursor: pointer;\n",
              "    display: none;\n",
              "    fill: #1967D2;\n",
              "    height: 32px;\n",
              "    padding: 0 0 0 0;\n",
              "    width: 32px;\n",
              "  }\n",
              "\n",
              "  .colab-df-quickchart:hover {\n",
              "    background-color: #E2EBFA;\n",
              "    box-shadow: 0px 1px 2px rgba(60, 64, 67, 0.3), 0px 1px 3px 1px rgba(60, 64, 67, 0.15);\n",
              "    fill: #174EA6;\n",
              "  }\n",
              "\n",
              "  [theme=dark] .colab-df-quickchart {\n",
              "    background-color: #3B4455;\n",
              "    fill: #D2E3FC;\n",
              "  }\n",
              "\n",
              "  [theme=dark] .colab-df-quickchart:hover {\n",
              "    background-color: #434B5C;\n",
              "    box-shadow: 0px 1px 3px 1px rgba(0, 0, 0, 0.15);\n",
              "    filter: drop-shadow(0px 1px 2px rgba(0, 0, 0, 0.3));\n",
              "    fill: #FFFFFF;\n",
              "  }\n",
              "</style>\n",
              "\n",
              "    <script>\n",
              "      async function quickchart(key) {\n",
              "        const containerElement = document.querySelector('#' + key);\n",
              "        const charts = await google.colab.kernel.invokeFunction(\n",
              "            'suggestCharts', [key], {});\n",
              "      }\n",
              "    </script>\n",
              "\n",
              "      <script>\n",
              "\n",
              "function displayQuickchartButton(domScope) {\n",
              "  let quickchartButtonEl =\n",
              "    domScope.querySelector('#df-cddd3175-a261-4f3a-91b8-d49a828c0359 button.colab-df-quickchart');\n",
              "  quickchartButtonEl.style.display =\n",
              "    google.colab.kernel.accessAllowed ? 'block' : 'none';\n",
              "}\n",
              "\n",
              "        displayQuickchartButton(document);\n",
              "      </script>\n",
              "      <style>\n",
              "    .colab-df-container {\n",
              "      display:flex;\n",
              "      flex-wrap:wrap;\n",
              "      gap: 12px;\n",
              "    }\n",
              "\n",
              "    .colab-df-convert {\n",
              "      background-color: #E8F0FE;\n",
              "      border: none;\n",
              "      border-radius: 50%;\n",
              "      cursor: pointer;\n",
              "      display: none;\n",
              "      fill: #1967D2;\n",
              "      height: 32px;\n",
              "      padding: 0 0 0 0;\n",
              "      width: 32px;\n",
              "    }\n",
              "\n",
              "    .colab-df-convert:hover {\n",
              "      background-color: #E2EBFA;\n",
              "      box-shadow: 0px 1px 2px rgba(60, 64, 67, 0.3), 0px 1px 3px 1px rgba(60, 64, 67, 0.15);\n",
              "      fill: #174EA6;\n",
              "    }\n",
              "\n",
              "    [theme=dark] .colab-df-convert {\n",
              "      background-color: #3B4455;\n",
              "      fill: #D2E3FC;\n",
              "    }\n",
              "\n",
              "    [theme=dark] .colab-df-convert:hover {\n",
              "      background-color: #434B5C;\n",
              "      box-shadow: 0px 1px 3px 1px rgba(0, 0, 0, 0.15);\n",
              "      filter: drop-shadow(0px 1px 2px rgba(0, 0, 0, 0.3));\n",
              "      fill: #FFFFFF;\n",
              "    }\n",
              "  </style>\n",
              "\n",
              "      <script>\n",
              "        const buttonEl =\n",
              "          document.querySelector('#df-84fac6b7-00a5-465b-b277-cfd3cd315641 button.colab-df-convert');\n",
              "        buttonEl.style.display =\n",
              "          google.colab.kernel.accessAllowed ? 'block' : 'none';\n",
              "\n",
              "        async function convertToInteractive(key) {\n",
              "          const element = document.querySelector('#df-84fac6b7-00a5-465b-b277-cfd3cd315641');\n",
              "          const dataTable =\n",
              "            await google.colab.kernel.invokeFunction('convertToInteractive',\n",
              "                                                     [key], {});\n",
              "          if (!dataTable) return;\n",
              "\n",
              "          const docLinkHtml = 'Like what you see? Visit the ' +\n",
              "            '<a target=\"_blank\" href=https://colab.research.google.com/notebooks/data_table.ipynb>data table notebook</a>'\n",
              "            + ' to learn more about interactive tables.';\n",
              "          element.innerHTML = '';\n",
              "          dataTable['output_type'] = 'display_data';\n",
              "          await google.colab.output.renderOutput(dataTable, element);\n",
              "          const docLink = document.createElement('div');\n",
              "          docLink.innerHTML = docLinkHtml;\n",
              "          element.appendChild(docLink);\n",
              "        }\n",
              "      </script>\n",
              "    </div>\n",
              "  </div>\n"
            ]
          },
          "metadata": {},
          "execution_count": 1
        }
      ],
      "source": [
        "# Import our dependencies\n",
        "from sklearn.model_selection import train_test_split\n",
        "from sklearn.preprocessing import StandardScaler\n",
        "import pandas as pd\n",
        "import tensorflow as tf\n",
        "\n",
        "#  Import and read the charity_data.csv.\n",
        "import pandas as pd\n",
        "application_df = pd.read_csv(\"https://static.bc-edx.com/data/dl-1-2/m21/lms/starter/charity_data.csv\")\n",
        "application_df.head()"
      ]
    },
    {
      "cell_type": "code",
      "execution_count": null,
      "metadata": {
        "id": "oNQ7PctmWXWr"
      },
      "outputs": [],
      "source": [
        "# Drop the non-beneficial ID columns, 'EIN' and 'NAME'.\n",
        "application_df.drop(columns=['EIN'], inplace=True)"
      ]
    },
    {
      "cell_type": "code",
      "source": [
        "# confirm columns dropped\n",
        "application_df.info()"
      ],
      "metadata": {
        "colab": {
          "base_uri": "https://localhost:8080/"
        },
        "id": "S2OO1Cn-XAFa",
        "outputId": "dddd55fc-ce2e-4554-eb0f-469e7bcabd8b"
      },
      "execution_count": null,
      "outputs": [
        {
          "output_type": "stream",
          "name": "stdout",
          "text": [
            "<class 'pandas.core.frame.DataFrame'>\n",
            "RangeIndex: 34299 entries, 0 to 34298\n",
            "Data columns (total 11 columns):\n",
            " #   Column                  Non-Null Count  Dtype \n",
            "---  ------                  --------------  ----- \n",
            " 0   NAME                    34299 non-null  object\n",
            " 1   APPLICATION_TYPE        34299 non-null  object\n",
            " 2   AFFILIATION             34299 non-null  object\n",
            " 3   CLASSIFICATION          34299 non-null  object\n",
            " 4   USE_CASE                34299 non-null  object\n",
            " 5   ORGANIZATION            34299 non-null  object\n",
            " 6   STATUS                  34299 non-null  int64 \n",
            " 7   INCOME_AMT              34299 non-null  object\n",
            " 8   SPECIAL_CONSIDERATIONS  34299 non-null  object\n",
            " 9   ASK_AMT                 34299 non-null  int64 \n",
            " 10  IS_SUCCESSFUL           34299 non-null  int64 \n",
            "dtypes: int64(3), object(8)\n",
            "memory usage: 2.9+ MB\n"
          ]
        }
      ]
    },
    {
      "cell_type": "code",
      "source": [
        "app_object = application_df.dtypes[application_df.dtypes != 'object'].index.tolist()\n",
        "app_object"
      ],
      "metadata": {
        "colab": {
          "base_uri": "https://localhost:8080/"
        },
        "id": "IkiEemjJzHaU",
        "outputId": "9e47b24c-5956-4b6b-d708-33049fbfc61b"
      },
      "execution_count": null,
      "outputs": [
        {
          "output_type": "execute_result",
          "data": {
            "text/plain": [
              "['STATUS', 'ASK_AMT', 'IS_SUCCESSFUL']"
            ]
          },
          "metadata": {},
          "execution_count": 4
        }
      ]
    },
    {
      "cell_type": "code",
      "execution_count": null,
      "metadata": {
        "colab": {
          "base_uri": "https://localhost:8080/"
        },
        "id": "Uk2MzCDfWXWr",
        "outputId": "76ff8614-9877-4c03-e4d9-a4333b5e4237"
      },
      "outputs": [
        {
          "output_type": "execute_result",
          "data": {
            "text/plain": [
              "STATUS              2\n",
              "ASK_AMT          8747\n",
              "IS_SUCCESSFUL       2\n",
              "dtype: int64"
            ]
          },
          "metadata": {},
          "execution_count": 5
        }
      ],
      "source": [
        "# Determine the number of unique values in each column.\n",
        "application_df[app_object].nunique()"
      ]
    },
    {
      "cell_type": "code",
      "source": [
        "# further preproccessing\n",
        "app_cat = application_df.dtypes[application_df.dtypes == 'object'].index.tolist()\n",
        "application_df[app_cat].nunique()"
      ],
      "metadata": {
        "colab": {
          "base_uri": "https://localhost:8080/"
        },
        "id": "HlgJI1SFz5WP",
        "outputId": "1ed3d1c7-9248-44e4-8492-e77c71ddd9f0"
      },
      "execution_count": null,
      "outputs": [
        {
          "output_type": "execute_result",
          "data": {
            "text/plain": [
              "NAME                      19568\n",
              "APPLICATION_TYPE             17\n",
              "AFFILIATION                   6\n",
              "CLASSIFICATION               71\n",
              "USE_CASE                      5\n",
              "ORGANIZATION                  4\n",
              "INCOME_AMT                    9\n",
              "SPECIAL_CONSIDERATIONS        2\n",
              "dtype: int64"
            ]
          },
          "metadata": {},
          "execution_count": 6
        }
      ]
    },
    {
      "cell_type": "code",
      "source": [
        "# binning names\n",
        "name_count = application_df['NAME'].value_counts()\n",
        "name_count"
      ],
      "metadata": {
        "colab": {
          "base_uri": "https://localhost:8080/"
        },
        "id": "n3q-hIYm0XfO",
        "outputId": "f844de1a-99d6-495e-82ba-1c61620bae6a"
      },
      "execution_count": null,
      "outputs": [
        {
          "output_type": "execute_result",
          "data": {
            "text/plain": [
              "PARENT BOOSTER USA INC                                                  1260\n",
              "TOPS CLUB INC                                                            765\n",
              "UNITED STATES BOWLING CONGRESS INC                                       700\n",
              "WASHINGTON STATE UNIVERSITY                                              492\n",
              "AMATEUR ATHLETIC UNION OF THE UNITED STATES INC                          408\n",
              "                                                                        ... \n",
              "ST LOUIS SLAM WOMENS FOOTBALL                                              1\n",
              "AIESEC ALUMNI IBEROAMERICA CORP                                            1\n",
              "WEALLBLEEDRED ORG INC                                                      1\n",
              "AMERICAN SOCIETY FOR STANDARDS IN MEDIUMSHIP & PSYCHICAL INVESTIGATI       1\n",
              "WATERHOUSE CHARITABLE TR                                                   1\n",
              "Name: NAME, Length: 19568, dtype: int64"
            ]
          },
          "metadata": {},
          "execution_count": 7
        }
      ]
    },
    {
      "cell_type": "code",
      "source": [
        "# binning names cont'd\n",
        "replace_name = list(name_count[name_count < 175].index)\n",
        "\n",
        "for name_count in replace_name:\n",
        "  application_df['NAME'] = application_df['NAME'].replace(name_count, \"Other\")\n",
        "\n",
        "application_df['NAME'].value_counts()"
      ],
      "metadata": {
        "colab": {
          "base_uri": "https://localhost:8080/"
        },
        "id": "y9kNI0rI1b7N",
        "outputId": "4a5a0644-6b3d-4510-8e7a-4595b4890d29"
      },
      "execution_count": null,
      "outputs": [
        {
          "output_type": "execute_result",
          "data": {
            "text/plain": [
              "Other                                                                 27926\n",
              "PARENT BOOSTER USA INC                                                 1260\n",
              "TOPS CLUB INC                                                           765\n",
              "UNITED STATES BOWLING CONGRESS INC                                      700\n",
              "WASHINGTON STATE UNIVERSITY                                             492\n",
              "AMATEUR ATHLETIC UNION OF THE UNITED STATES INC                         408\n",
              "PTA TEXAS CONGRESS                                                      368\n",
              "SOROPTIMIST INTERNATIONAL OF THE AMERICAS INC                           331\n",
              "ALPHA PHI SIGMA                                                         313\n",
              "TOASTMASTERS INTERNATIONAL                                              293\n",
              "MOST WORSHIPFUL STRINGER FREE AND ACCEPTED MASONS                       287\n",
              "LITTLE LEAGUE BASEBALL INC                                              277\n",
              "INTERNATIONAL ASSOCIATION OF LIONS CLUBS                                266\n",
              "MOMS CLUB                                                               210\n",
              "INTERNATIONAL ASSOCIATION OF SHEET METAL AIR RAIL & TRANSPORTATION      206\n",
              "AMERICAN ASSOCIATION OF UNIVERSITY WOMEN                                197\n",
              "Name: NAME, dtype: int64"
            ]
          },
          "metadata": {},
          "execution_count": 8
        }
      ]
    },
    {
      "cell_type": "code",
      "execution_count": null,
      "metadata": {
        "colab": {
          "base_uri": "https://localhost:8080/"
        },
        "id": "sa-xu42sWXWs",
        "outputId": "c302a3ab-a515-4b29-824f-d6747e6ed139"
      },
      "outputs": [
        {
          "output_type": "stream",
          "name": "stdout",
          "text": [
            "T3     27037\n",
            "T4      1542\n",
            "T6      1216\n",
            "T5      1173\n",
            "T19     1065\n",
            "T8       737\n",
            "T7       725\n",
            "T10      528\n",
            "T9       156\n",
            "T13       66\n",
            "T12       27\n",
            "T2        16\n",
            "T25        3\n",
            "T14        3\n",
            "T29        2\n",
            "T15        2\n",
            "T17        1\n",
            "Name: APPLICATION_TYPE, dtype: int64\n"
          ]
        }
      ],
      "source": [
        "# Look at APPLICATION_TYPE value counts for binning\n",
        "app_count = application_df['APPLICATION_TYPE'].value_counts()\n",
        "print(app_count)"
      ]
    },
    {
      "cell_type": "code",
      "execution_count": null,
      "metadata": {
        "colab": {
          "base_uri": "https://localhost:8080/"
        },
        "id": "6r65hLa-WXWs",
        "outputId": "703b99a6-bb04-4111-9340-29a2957cd0f9"
      },
      "outputs": [
        {
          "output_type": "execute_result",
          "data": {
            "text/plain": [
              "T3       27037\n",
              "T4        1542\n",
              "T6        1216\n",
              "T5        1173\n",
              "T19       1065\n",
              "T8         737\n",
              "T7         725\n",
              "T10        528\n",
              "Other      276\n",
              "Name: APPLICATION_TYPE, dtype: int64"
            ]
          },
          "metadata": {},
          "execution_count": 10
        }
      ],
      "source": [
        "# Choose a cutoff value (250) and create a list of application types to be replaced\n",
        "# use the variable name `application_types_to_replace`\n",
        "application_types_to_replace = list(app_count[app_count < 250].index)\n",
        "application_types_to_replace\n",
        "\n",
        "# Replace in dataframe\n",
        "for app in application_types_to_replace:\n",
        "    application_df['APPLICATION_TYPE'] = application_df['APPLICATION_TYPE'].replace(app,\"Other\")\n",
        "\n",
        "# Check to make sure binning was successful\n",
        "application_df['APPLICATION_TYPE'].value_counts()"
      ]
    },
    {
      "cell_type": "code",
      "execution_count": null,
      "metadata": {
        "colab": {
          "base_uri": "https://localhost:8080/"
        },
        "id": "95VRIZuHWXWt",
        "outputId": "c8aa518f-8162-40b1-d98a-cbcbe4e05e8a"
      },
      "outputs": [
        {
          "output_type": "execute_result",
          "data": {
            "text/plain": [
              "C1000    17326\n",
              "C2000     6074\n",
              "C1200     4837\n",
              "C3000     1918\n",
              "C2100     1883\n",
              "         ...  \n",
              "C4120        1\n",
              "C8210        1\n",
              "C2561        1\n",
              "C4500        1\n",
              "C2150        1\n",
              "Name: CLASSIFICATION, Length: 71, dtype: int64"
            ]
          },
          "metadata": {},
          "execution_count": 11
        }
      ],
      "source": [
        "# Look at CLASSIFICATION value counts for binning\n",
        "class_count = application_df['CLASSIFICATION'].value_counts()\n",
        "class_count"
      ]
    },
    {
      "cell_type": "code",
      "execution_count": null,
      "metadata": {
        "colab": {
          "base_uri": "https://localhost:8080/"
        },
        "id": "7zc2GPMDWXWt",
        "outputId": "328b9fa9-08d1-40b1-cd8f-dafaeb46e5d8"
      },
      "outputs": [
        {
          "output_type": "execute_result",
          "data": {
            "text/plain": [
              "C1000    17326\n",
              "C2000     6074\n",
              "C1200     4837\n",
              "C3000     1918\n",
              "C2100     1883\n",
              "C7000      777\n",
              "C1700      287\n",
              "C4000      194\n",
              "C5000      116\n",
              "C1270      114\n",
              "C2700      104\n",
              "C2800       95\n",
              "C7100       75\n",
              "C1300       58\n",
              "C1280       50\n",
              "C1230       36\n",
              "C1400       34\n",
              "C7200       32\n",
              "C2300       32\n",
              "C1240       30\n",
              "C8000       20\n",
              "C7120       18\n",
              "C1500       16\n",
              "C1800       15\n",
              "C6000       15\n",
              "C1250       14\n",
              "C8200       11\n",
              "C1238       10\n",
              "C1278       10\n",
              "C1235        9\n",
              "C1237        9\n",
              "C7210        7\n",
              "C2400        6\n",
              "C1720        6\n",
              "C4100        6\n",
              "C1257        5\n",
              "C1600        5\n",
              "C1260        3\n",
              "C2710        3\n",
              "C0           3\n",
              "C3200        2\n",
              "C1234        2\n",
              "C1246        2\n",
              "C1267        2\n",
              "C1256        2\n",
              "Name: CLASSIFICATION, dtype: int64"
            ]
          },
          "metadata": {},
          "execution_count": 12
        }
      ],
      "source": [
        "# You may find it helpful to look at CLASSIFICATION value counts >1\n",
        "class_count[class_count > 1]"
      ]
    },
    {
      "cell_type": "code",
      "execution_count": null,
      "metadata": {
        "colab": {
          "base_uri": "https://localhost:8080/"
        },
        "id": "z0bnJDvaWXWt",
        "outputId": "ca45ce6e-268f-436a-ed56-6803667c2ec9"
      },
      "outputs": [
        {
          "output_type": "execute_result",
          "data": {
            "text/plain": [
              "C1000    17326\n",
              "C2000     6074\n",
              "C1200     4837\n",
              "C3000     1918\n",
              "C2100     1883\n",
              "Other     1003\n",
              "C7000      777\n",
              "C1700      287\n",
              "C4000      194\n",
              "Name: CLASSIFICATION, dtype: int64"
            ]
          },
          "metadata": {},
          "execution_count": 13
        }
      ],
      "source": [
        "# Choose a cutoff value and create a list of classifications to be replaced\n",
        "# use the variable name `classifications_to_replace`\n",
        "classifications_to_replace = list(class_count[class_count < 150].index)\n",
        "classifications_to_replace\n",
        "\n",
        "# Replace in dataframe\n",
        "for cls in classifications_to_replace:\n",
        "    application_df['CLASSIFICATION'] = application_df['CLASSIFICATION'].replace(cls,\"Other\")\n",
        "\n",
        "# Check to make sure binning was successful\n",
        "application_df['CLASSIFICATION'].value_counts()"
      ]
    },
    {
      "cell_type": "code",
      "source": [
        "app_cat = application_df.dtypes[application_df.dtypes == 'object'].index.tolist()\n",
        "application_df[app_cat].nunique()"
      ],
      "metadata": {
        "colab": {
          "base_uri": "https://localhost:8080/"
        },
        "id": "hQyqj-95mSbQ",
        "outputId": "93a9aa18-9d25-4a82-d49e-6890ed55bb61"
      },
      "execution_count": null,
      "outputs": [
        {
          "output_type": "execute_result",
          "data": {
            "text/plain": [
              "NAME                      16\n",
              "APPLICATION_TYPE           9\n",
              "AFFILIATION                6\n",
              "CLASSIFICATION             9\n",
              "USE_CASE                   5\n",
              "ORGANIZATION               4\n",
              "INCOME_AMT                 9\n",
              "SPECIAL_CONSIDERATIONS     2\n",
              "dtype: int64"
            ]
          },
          "metadata": {},
          "execution_count": 14
        }
      ]
    },
    {
      "cell_type": "code",
      "execution_count": null,
      "metadata": {
        "colab": {
          "base_uri": "https://localhost:8080/",
          "height": 369
        },
        "id": "RXOpXUrHWXWu",
        "outputId": "94ac9f3f-1303-43bb-bda8-f7d8c1ab47aa"
      },
      "outputs": [
        {
          "output_type": "execute_result",
          "data": {
            "text/plain": [
              "   STATUS  ASK_AMT  IS_SUCCESSFUL  NAME_ALPHA PHI SIGMA  \\\n",
              "0       1     5000              1                     0   \n",
              "1       1   108590              1                     0   \n",
              "2       1     5000              0                     0   \n",
              "3       1     6692              1                     0   \n",
              "4       1   142590              1                     0   \n",
              "\n",
              "   NAME_AMATEUR ATHLETIC UNION OF THE UNITED STATES INC  \\\n",
              "0                                                  0      \n",
              "1                                                  0      \n",
              "2                                                  0      \n",
              "3                                                  0      \n",
              "4                                                  0      \n",
              "\n",
              "   NAME_AMERICAN ASSOCIATION OF UNIVERSITY WOMEN  \\\n",
              "0                                              0   \n",
              "1                                              0   \n",
              "2                                              0   \n",
              "3                                              0   \n",
              "4                                              0   \n",
              "\n",
              "   NAME_INTERNATIONAL ASSOCIATION OF LIONS CLUBS  \\\n",
              "0                                              0   \n",
              "1                                              0   \n",
              "2                                              0   \n",
              "3                                              0   \n",
              "4                                              0   \n",
              "\n",
              "   NAME_INTERNATIONAL ASSOCIATION OF SHEET METAL AIR RAIL & TRANSPORTATION  \\\n",
              "0                                                  0                         \n",
              "1                                                  0                         \n",
              "2                                                  0                         \n",
              "3                                                  0                         \n",
              "4                                                  0                         \n",
              "\n",
              "   NAME_LITTLE LEAGUE BASEBALL INC  NAME_MOMS CLUB  ...  INCOME_AMT_1-9999  \\\n",
              "0                                0               0  ...                  0   \n",
              "1                                0               0  ...                  1   \n",
              "2                                0               0  ...                  0   \n",
              "3                                0               0  ...                  0   \n",
              "4                                0               0  ...                  0   \n",
              "\n",
              "   INCOME_AMT_10000-24999  INCOME_AMT_100000-499999  INCOME_AMT_10M-50M  \\\n",
              "0                       0                         0                   0   \n",
              "1                       0                         0                   0   \n",
              "2                       0                         0                   0   \n",
              "3                       1                         0                   0   \n",
              "4                       0                         1                   0   \n",
              "\n",
              "   INCOME_AMT_1M-5M  INCOME_AMT_25000-99999  INCOME_AMT_50M+  \\\n",
              "0                 0                       0                0   \n",
              "1                 0                       0                0   \n",
              "2                 0                       0                0   \n",
              "3                 0                       0                0   \n",
              "4                 0                       0                0   \n",
              "\n",
              "   INCOME_AMT_5M-10M  SPECIAL_CONSIDERATIONS_N  SPECIAL_CONSIDERATIONS_Y  \n",
              "0                  0                         1                         0  \n",
              "1                  0                         1                         0  \n",
              "2                  0                         1                         0  \n",
              "3                  0                         1                         0  \n",
              "4                  0                         1                         0  \n",
              "\n",
              "[5 rows x 63 columns]"
            ],
            "text/html": [
              "\n",
              "\n",
              "  <div id=\"df-91e29530-33c4-4cad-aebb-8c0a28c5381d\">\n",
              "    <div class=\"colab-df-container\">\n",
              "      <div>\n",
              "<style scoped>\n",
              "    .dataframe tbody tr th:only-of-type {\n",
              "        vertical-align: middle;\n",
              "    }\n",
              "\n",
              "    .dataframe tbody tr th {\n",
              "        vertical-align: top;\n",
              "    }\n",
              "\n",
              "    .dataframe thead th {\n",
              "        text-align: right;\n",
              "    }\n",
              "</style>\n",
              "<table border=\"1\" class=\"dataframe\">\n",
              "  <thead>\n",
              "    <tr style=\"text-align: right;\">\n",
              "      <th></th>\n",
              "      <th>STATUS</th>\n",
              "      <th>ASK_AMT</th>\n",
              "      <th>IS_SUCCESSFUL</th>\n",
              "      <th>NAME_ALPHA PHI SIGMA</th>\n",
              "      <th>NAME_AMATEUR ATHLETIC UNION OF THE UNITED STATES INC</th>\n",
              "      <th>NAME_AMERICAN ASSOCIATION OF UNIVERSITY WOMEN</th>\n",
              "      <th>NAME_INTERNATIONAL ASSOCIATION OF LIONS CLUBS</th>\n",
              "      <th>NAME_INTERNATIONAL ASSOCIATION OF SHEET METAL AIR RAIL &amp; TRANSPORTATION</th>\n",
              "      <th>NAME_LITTLE LEAGUE BASEBALL INC</th>\n",
              "      <th>NAME_MOMS CLUB</th>\n",
              "      <th>...</th>\n",
              "      <th>INCOME_AMT_1-9999</th>\n",
              "      <th>INCOME_AMT_10000-24999</th>\n",
              "      <th>INCOME_AMT_100000-499999</th>\n",
              "      <th>INCOME_AMT_10M-50M</th>\n",
              "      <th>INCOME_AMT_1M-5M</th>\n",
              "      <th>INCOME_AMT_25000-99999</th>\n",
              "      <th>INCOME_AMT_50M+</th>\n",
              "      <th>INCOME_AMT_5M-10M</th>\n",
              "      <th>SPECIAL_CONSIDERATIONS_N</th>\n",
              "      <th>SPECIAL_CONSIDERATIONS_Y</th>\n",
              "    </tr>\n",
              "  </thead>\n",
              "  <tbody>\n",
              "    <tr>\n",
              "      <th>0</th>\n",
              "      <td>1</td>\n",
              "      <td>5000</td>\n",
              "      <td>1</td>\n",
              "      <td>0</td>\n",
              "      <td>0</td>\n",
              "      <td>0</td>\n",
              "      <td>0</td>\n",
              "      <td>0</td>\n",
              "      <td>0</td>\n",
              "      <td>0</td>\n",
              "      <td>...</td>\n",
              "      <td>0</td>\n",
              "      <td>0</td>\n",
              "      <td>0</td>\n",
              "      <td>0</td>\n",
              "      <td>0</td>\n",
              "      <td>0</td>\n",
              "      <td>0</td>\n",
              "      <td>0</td>\n",
              "      <td>1</td>\n",
              "      <td>0</td>\n",
              "    </tr>\n",
              "    <tr>\n",
              "      <th>1</th>\n",
              "      <td>1</td>\n",
              "      <td>108590</td>\n",
              "      <td>1</td>\n",
              "      <td>0</td>\n",
              "      <td>0</td>\n",
              "      <td>0</td>\n",
              "      <td>0</td>\n",
              "      <td>0</td>\n",
              "      <td>0</td>\n",
              "      <td>0</td>\n",
              "      <td>...</td>\n",
              "      <td>1</td>\n",
              "      <td>0</td>\n",
              "      <td>0</td>\n",
              "      <td>0</td>\n",
              "      <td>0</td>\n",
              "      <td>0</td>\n",
              "      <td>0</td>\n",
              "      <td>0</td>\n",
              "      <td>1</td>\n",
              "      <td>0</td>\n",
              "    </tr>\n",
              "    <tr>\n",
              "      <th>2</th>\n",
              "      <td>1</td>\n",
              "      <td>5000</td>\n",
              "      <td>0</td>\n",
              "      <td>0</td>\n",
              "      <td>0</td>\n",
              "      <td>0</td>\n",
              "      <td>0</td>\n",
              "      <td>0</td>\n",
              "      <td>0</td>\n",
              "      <td>0</td>\n",
              "      <td>...</td>\n",
              "      <td>0</td>\n",
              "      <td>0</td>\n",
              "      <td>0</td>\n",
              "      <td>0</td>\n",
              "      <td>0</td>\n",
              "      <td>0</td>\n",
              "      <td>0</td>\n",
              "      <td>0</td>\n",
              "      <td>1</td>\n",
              "      <td>0</td>\n",
              "    </tr>\n",
              "    <tr>\n",
              "      <th>3</th>\n",
              "      <td>1</td>\n",
              "      <td>6692</td>\n",
              "      <td>1</td>\n",
              "      <td>0</td>\n",
              "      <td>0</td>\n",
              "      <td>0</td>\n",
              "      <td>0</td>\n",
              "      <td>0</td>\n",
              "      <td>0</td>\n",
              "      <td>0</td>\n",
              "      <td>...</td>\n",
              "      <td>0</td>\n",
              "      <td>1</td>\n",
              "      <td>0</td>\n",
              "      <td>0</td>\n",
              "      <td>0</td>\n",
              "      <td>0</td>\n",
              "      <td>0</td>\n",
              "      <td>0</td>\n",
              "      <td>1</td>\n",
              "      <td>0</td>\n",
              "    </tr>\n",
              "    <tr>\n",
              "      <th>4</th>\n",
              "      <td>1</td>\n",
              "      <td>142590</td>\n",
              "      <td>1</td>\n",
              "      <td>0</td>\n",
              "      <td>0</td>\n",
              "      <td>0</td>\n",
              "      <td>0</td>\n",
              "      <td>0</td>\n",
              "      <td>0</td>\n",
              "      <td>0</td>\n",
              "      <td>...</td>\n",
              "      <td>0</td>\n",
              "      <td>0</td>\n",
              "      <td>1</td>\n",
              "      <td>0</td>\n",
              "      <td>0</td>\n",
              "      <td>0</td>\n",
              "      <td>0</td>\n",
              "      <td>0</td>\n",
              "      <td>1</td>\n",
              "      <td>0</td>\n",
              "    </tr>\n",
              "  </tbody>\n",
              "</table>\n",
              "<p>5 rows × 63 columns</p>\n",
              "</div>\n",
              "      <button class=\"colab-df-convert\" onclick=\"convertToInteractive('df-91e29530-33c4-4cad-aebb-8c0a28c5381d')\"\n",
              "              title=\"Convert this dataframe to an interactive table.\"\n",
              "              style=\"display:none;\">\n",
              "\n",
              "  <svg xmlns=\"http://www.w3.org/2000/svg\" height=\"24px\"viewBox=\"0 0 24 24\"\n",
              "       width=\"24px\">\n",
              "    <path d=\"M0 0h24v24H0V0z\" fill=\"none\"/>\n",
              "    <path d=\"M18.56 5.44l.94 2.06.94-2.06 2.06-.94-2.06-.94-.94-2.06-.94 2.06-2.06.94zm-11 1L8.5 8.5l.94-2.06 2.06-.94-2.06-.94L8.5 2.5l-.94 2.06-2.06.94zm10 10l.94 2.06.94-2.06 2.06-.94-2.06-.94-.94-2.06-.94 2.06-2.06.94z\"/><path d=\"M17.41 7.96l-1.37-1.37c-.4-.4-.92-.59-1.43-.59-.52 0-1.04.2-1.43.59L10.3 9.45l-7.72 7.72c-.78.78-.78 2.05 0 2.83L4 21.41c.39.39.9.59 1.41.59.51 0 1.02-.2 1.41-.59l7.78-7.78 2.81-2.81c.8-.78.8-2.07 0-2.86zM5.41 20L4 18.59l7.72-7.72 1.47 1.35L5.41 20z\"/>\n",
              "  </svg>\n",
              "      </button>\n",
              "\n",
              "\n",
              "\n",
              "    <div id=\"df-bd4ff758-7510-4557-81f7-b4824dd36d74\">\n",
              "      <button class=\"colab-df-quickchart\" onclick=\"quickchart('df-bd4ff758-7510-4557-81f7-b4824dd36d74')\"\n",
              "              title=\"Suggest charts.\"\n",
              "              style=\"display:none;\">\n",
              "\n",
              "<svg xmlns=\"http://www.w3.org/2000/svg\" height=\"24px\"viewBox=\"0 0 24 24\"\n",
              "     width=\"24px\">\n",
              "    <g>\n",
              "        <path d=\"M19 3H5c-1.1 0-2 .9-2 2v14c0 1.1.9 2 2 2h14c1.1 0 2-.9 2-2V5c0-1.1-.9-2-2-2zM9 17H7v-7h2v7zm4 0h-2V7h2v10zm4 0h-2v-4h2v4z\"/>\n",
              "    </g>\n",
              "</svg>\n",
              "      </button>\n",
              "    </div>\n",
              "\n",
              "<style>\n",
              "  .colab-df-quickchart {\n",
              "    background-color: #E8F0FE;\n",
              "    border: none;\n",
              "    border-radius: 50%;\n",
              "    cursor: pointer;\n",
              "    display: none;\n",
              "    fill: #1967D2;\n",
              "    height: 32px;\n",
              "    padding: 0 0 0 0;\n",
              "    width: 32px;\n",
              "  }\n",
              "\n",
              "  .colab-df-quickchart:hover {\n",
              "    background-color: #E2EBFA;\n",
              "    box-shadow: 0px 1px 2px rgba(60, 64, 67, 0.3), 0px 1px 3px 1px rgba(60, 64, 67, 0.15);\n",
              "    fill: #174EA6;\n",
              "  }\n",
              "\n",
              "  [theme=dark] .colab-df-quickchart {\n",
              "    background-color: #3B4455;\n",
              "    fill: #D2E3FC;\n",
              "  }\n",
              "\n",
              "  [theme=dark] .colab-df-quickchart:hover {\n",
              "    background-color: #434B5C;\n",
              "    box-shadow: 0px 1px 3px 1px rgba(0, 0, 0, 0.15);\n",
              "    filter: drop-shadow(0px 1px 2px rgba(0, 0, 0, 0.3));\n",
              "    fill: #FFFFFF;\n",
              "  }\n",
              "</style>\n",
              "\n",
              "    <script>\n",
              "      async function quickchart(key) {\n",
              "        const containerElement = document.querySelector('#' + key);\n",
              "        const charts = await google.colab.kernel.invokeFunction(\n",
              "            'suggestCharts', [key], {});\n",
              "      }\n",
              "    </script>\n",
              "\n",
              "      <script>\n",
              "\n",
              "function displayQuickchartButton(domScope) {\n",
              "  let quickchartButtonEl =\n",
              "    domScope.querySelector('#df-bd4ff758-7510-4557-81f7-b4824dd36d74 button.colab-df-quickchart');\n",
              "  quickchartButtonEl.style.display =\n",
              "    google.colab.kernel.accessAllowed ? 'block' : 'none';\n",
              "}\n",
              "\n",
              "        displayQuickchartButton(document);\n",
              "      </script>\n",
              "      <style>\n",
              "    .colab-df-container {\n",
              "      display:flex;\n",
              "      flex-wrap:wrap;\n",
              "      gap: 12px;\n",
              "    }\n",
              "\n",
              "    .colab-df-convert {\n",
              "      background-color: #E8F0FE;\n",
              "      border: none;\n",
              "      border-radius: 50%;\n",
              "      cursor: pointer;\n",
              "      display: none;\n",
              "      fill: #1967D2;\n",
              "      height: 32px;\n",
              "      padding: 0 0 0 0;\n",
              "      width: 32px;\n",
              "    }\n",
              "\n",
              "    .colab-df-convert:hover {\n",
              "      background-color: #E2EBFA;\n",
              "      box-shadow: 0px 1px 2px rgba(60, 64, 67, 0.3), 0px 1px 3px 1px rgba(60, 64, 67, 0.15);\n",
              "      fill: #174EA6;\n",
              "    }\n",
              "\n",
              "    [theme=dark] .colab-df-convert {\n",
              "      background-color: #3B4455;\n",
              "      fill: #D2E3FC;\n",
              "    }\n",
              "\n",
              "    [theme=dark] .colab-df-convert:hover {\n",
              "      background-color: #434B5C;\n",
              "      box-shadow: 0px 1px 3px 1px rgba(0, 0, 0, 0.15);\n",
              "      filter: drop-shadow(0px 1px 2px rgba(0, 0, 0, 0.3));\n",
              "      fill: #FFFFFF;\n",
              "    }\n",
              "  </style>\n",
              "\n",
              "      <script>\n",
              "        const buttonEl =\n",
              "          document.querySelector('#df-91e29530-33c4-4cad-aebb-8c0a28c5381d button.colab-df-convert');\n",
              "        buttonEl.style.display =\n",
              "          google.colab.kernel.accessAllowed ? 'block' : 'none';\n",
              "\n",
              "        async function convertToInteractive(key) {\n",
              "          const element = document.querySelector('#df-91e29530-33c4-4cad-aebb-8c0a28c5381d');\n",
              "          const dataTable =\n",
              "            await google.colab.kernel.invokeFunction('convertToInteractive',\n",
              "                                                     [key], {});\n",
              "          if (!dataTable) return;\n",
              "\n",
              "          const docLinkHtml = 'Like what you see? Visit the ' +\n",
              "            '<a target=\"_blank\" href=https://colab.research.google.com/notebooks/data_table.ipynb>data table notebook</a>'\n",
              "            + ' to learn more about interactive tables.';\n",
              "          element.innerHTML = '';\n",
              "          dataTable['output_type'] = 'display_data';\n",
              "          await google.colab.output.renderOutput(dataTable, element);\n",
              "          const docLink = document.createElement('div');\n",
              "          docLink.innerHTML = docLinkHtml;\n",
              "          element.appendChild(docLink);\n",
              "        }\n",
              "      </script>\n",
              "    </div>\n",
              "  </div>\n"
            ]
          },
          "metadata": {},
          "execution_count": 15
        }
      ],
      "source": [
        "# Convert categorical data to numeric with `pd.get_dummies`\n",
        "application_df = pd.get_dummies(application_df)\n",
        "application_df.head()"
      ]
    },
    {
      "cell_type": "code",
      "source": [
        "# drop odd columns\n",
        "#application_df = application_df.drop(app_cat, axis=1)\n",
        "\n",
        "# confirm all data is numerical\n",
        "application_df.info()"
      ],
      "metadata": {
        "colab": {
          "base_uri": "https://localhost:8080/"
        },
        "id": "FBUpojBkqzZo",
        "outputId": "dde0142f-f608-42d1-a1b3-7dbd0d1dd885"
      },
      "execution_count": null,
      "outputs": [
        {
          "output_type": "stream",
          "name": "stdout",
          "text": [
            "<class 'pandas.core.frame.DataFrame'>\n",
            "RangeIndex: 34299 entries, 0 to 34298\n",
            "Data columns (total 63 columns):\n",
            " #   Column                                                                   Non-Null Count  Dtype\n",
            "---  ------                                                                   --------------  -----\n",
            " 0   STATUS                                                                   34299 non-null  int64\n",
            " 1   ASK_AMT                                                                  34299 non-null  int64\n",
            " 2   IS_SUCCESSFUL                                                            34299 non-null  int64\n",
            " 3   NAME_ALPHA PHI SIGMA                                                     34299 non-null  uint8\n",
            " 4   NAME_AMATEUR ATHLETIC UNION OF THE UNITED STATES INC                     34299 non-null  uint8\n",
            " 5   NAME_AMERICAN ASSOCIATION OF UNIVERSITY WOMEN                            34299 non-null  uint8\n",
            " 6   NAME_INTERNATIONAL ASSOCIATION OF LIONS CLUBS                            34299 non-null  uint8\n",
            " 7   NAME_INTERNATIONAL ASSOCIATION OF SHEET METAL AIR RAIL & TRANSPORTATION  34299 non-null  uint8\n",
            " 8   NAME_LITTLE LEAGUE BASEBALL INC                                          34299 non-null  uint8\n",
            " 9   NAME_MOMS CLUB                                                           34299 non-null  uint8\n",
            " 10  NAME_MOST WORSHIPFUL STRINGER FREE AND ACCEPTED MASONS                   34299 non-null  uint8\n",
            " 11  NAME_Other                                                               34299 non-null  uint8\n",
            " 12  NAME_PARENT BOOSTER USA INC                                              34299 non-null  uint8\n",
            " 13  NAME_PTA TEXAS CONGRESS                                                  34299 non-null  uint8\n",
            " 14  NAME_SOROPTIMIST INTERNATIONAL OF THE AMERICAS INC                       34299 non-null  uint8\n",
            " 15  NAME_TOASTMASTERS INTERNATIONAL                                          34299 non-null  uint8\n",
            " 16  NAME_TOPS CLUB INC                                                       34299 non-null  uint8\n",
            " 17  NAME_UNITED STATES BOWLING CONGRESS INC                                  34299 non-null  uint8\n",
            " 18  NAME_WASHINGTON STATE UNIVERSITY                                         34299 non-null  uint8\n",
            " 19  APPLICATION_TYPE_Other                                                   34299 non-null  uint8\n",
            " 20  APPLICATION_TYPE_T10                                                     34299 non-null  uint8\n",
            " 21  APPLICATION_TYPE_T19                                                     34299 non-null  uint8\n",
            " 22  APPLICATION_TYPE_T3                                                      34299 non-null  uint8\n",
            " 23  APPLICATION_TYPE_T4                                                      34299 non-null  uint8\n",
            " 24  APPLICATION_TYPE_T5                                                      34299 non-null  uint8\n",
            " 25  APPLICATION_TYPE_T6                                                      34299 non-null  uint8\n",
            " 26  APPLICATION_TYPE_T7                                                      34299 non-null  uint8\n",
            " 27  APPLICATION_TYPE_T8                                                      34299 non-null  uint8\n",
            " 28  AFFILIATION_CompanySponsored                                             34299 non-null  uint8\n",
            " 29  AFFILIATION_Family/Parent                                                34299 non-null  uint8\n",
            " 30  AFFILIATION_Independent                                                  34299 non-null  uint8\n",
            " 31  AFFILIATION_National                                                     34299 non-null  uint8\n",
            " 32  AFFILIATION_Other                                                        34299 non-null  uint8\n",
            " 33  AFFILIATION_Regional                                                     34299 non-null  uint8\n",
            " 34  CLASSIFICATION_C1000                                                     34299 non-null  uint8\n",
            " 35  CLASSIFICATION_C1200                                                     34299 non-null  uint8\n",
            " 36  CLASSIFICATION_C1700                                                     34299 non-null  uint8\n",
            " 37  CLASSIFICATION_C2000                                                     34299 non-null  uint8\n",
            " 38  CLASSIFICATION_C2100                                                     34299 non-null  uint8\n",
            " 39  CLASSIFICATION_C3000                                                     34299 non-null  uint8\n",
            " 40  CLASSIFICATION_C4000                                                     34299 non-null  uint8\n",
            " 41  CLASSIFICATION_C7000                                                     34299 non-null  uint8\n",
            " 42  CLASSIFICATION_Other                                                     34299 non-null  uint8\n",
            " 43  USE_CASE_CommunityServ                                                   34299 non-null  uint8\n",
            " 44  USE_CASE_Heathcare                                                       34299 non-null  uint8\n",
            " 45  USE_CASE_Other                                                           34299 non-null  uint8\n",
            " 46  USE_CASE_Preservation                                                    34299 non-null  uint8\n",
            " 47  USE_CASE_ProductDev                                                      34299 non-null  uint8\n",
            " 48  ORGANIZATION_Association                                                 34299 non-null  uint8\n",
            " 49  ORGANIZATION_Co-operative                                                34299 non-null  uint8\n",
            " 50  ORGANIZATION_Corporation                                                 34299 non-null  uint8\n",
            " 51  ORGANIZATION_Trust                                                       34299 non-null  uint8\n",
            " 52  INCOME_AMT_0                                                             34299 non-null  uint8\n",
            " 53  INCOME_AMT_1-9999                                                        34299 non-null  uint8\n",
            " 54  INCOME_AMT_10000-24999                                                   34299 non-null  uint8\n",
            " 55  INCOME_AMT_100000-499999                                                 34299 non-null  uint8\n",
            " 56  INCOME_AMT_10M-50M                                                       34299 non-null  uint8\n",
            " 57  INCOME_AMT_1M-5M                                                         34299 non-null  uint8\n",
            " 58  INCOME_AMT_25000-99999                                                   34299 non-null  uint8\n",
            " 59  INCOME_AMT_50M+                                                          34299 non-null  uint8\n",
            " 60  INCOME_AMT_5M-10M                                                        34299 non-null  uint8\n",
            " 61  SPECIAL_CONSIDERATIONS_N                                                 34299 non-null  uint8\n",
            " 62  SPECIAL_CONSIDERATIONS_Y                                                 34299 non-null  uint8\n",
            "dtypes: int64(3), uint8(60)\n",
            "memory usage: 2.7 MB\n"
          ]
        }
      ]
    },
    {
      "cell_type": "code",
      "execution_count": null,
      "metadata": {
        "id": "ptPpmXSNWXWu"
      },
      "outputs": [],
      "source": [
        "# Split our preprocessed data into our features and target arrays\n",
        "y= application_df['IS_SUCCESSFUL'].values\n",
        "X= application_df.drop(['IS_SUCCESSFUL'], axis=1).values\n",
        "\n",
        "# Split the preprocessed data into a training and testing dataset\n",
        "X_train,X_test,y_train,y_test = train_test_split(X,y,random_state=1)"
      ]
    },
    {
      "cell_type": "code",
      "execution_count": null,
      "metadata": {
        "id": "umu5JmYXWXWv"
      },
      "outputs": [],
      "source": [
        "# Create a StandardScaler instances\n",
        "scaler = StandardScaler()\n",
        "\n",
        "# Fit the StandardScaler\n",
        "X_scaler = scaler.fit(X_train)\n",
        "\n",
        "# Scale the data\n",
        "X_train_scaled = X_scaler.transform(X_train)\n",
        "X_test_scaled = X_scaler.transform(X_test)"
      ]
    },
    {
      "cell_type": "markdown",
      "metadata": {
        "id": "BJp1v6VBWXWv"
      },
      "source": [
        "## Compile, Train and Evaluate the Model"
      ]
    },
    {
      "cell_type": "code",
      "source": [
        "# troubleshooting\n",
        "len(X_train[0])"
      ],
      "metadata": {
        "colab": {
          "base_uri": "https://localhost:8080/"
        },
        "id": "z87WUHl-uBp5",
        "outputId": "1dbedfcb-b974-40fe-cfb4-4dc5a48eaf00"
      },
      "execution_count": null,
      "outputs": [
        {
          "output_type": "execute_result",
          "data": {
            "text/plain": [
              "62"
            ]
          },
          "metadata": {},
          "execution_count": 19
        }
      ]
    },
    {
      "cell_type": "code",
      "execution_count": null,
      "metadata": {
        "colab": {
          "base_uri": "https://localhost:8080/"
        },
        "id": "eGglu1OJWXWv",
        "outputId": "5108bedf-af2d-48db-a194-4f5e438e46d1"
      },
      "outputs": [
        {
          "output_type": "stream",
          "name": "stdout",
          "text": [
            "Model: \"sequential\"\n",
            "_________________________________________________________________\n",
            " Layer (type)                Output Shape              Param #   \n",
            "=================================================================\n",
            " dense (Dense)               (None, 100)               6300      \n",
            "                                                                 \n",
            " dense_1 (Dense)             (None, 30)                3030      \n",
            "                                                                 \n",
            " dense_2 (Dense)             (None, 10)                310       \n",
            "                                                                 \n",
            " dense_3 (Dense)             (None, 1)                 11        \n",
            "                                                                 \n",
            "=================================================================\n",
            "Total params: 9,651\n",
            "Trainable params: 9,651\n",
            "Non-trainable params: 0\n",
            "_________________________________________________________________\n"
          ]
        }
      ],
      "source": [
        "# Define the model - deep neural net, i.e., the number of input features and hidden nodes for each layer.\n",
        "number_input_features = len(X_train[0])\n",
        "#hidden_nodes_l1= (number_input_features * 3)\n",
        "#hidden_nodes_l2= (number_input_features * .6)\n",
        "hidden_nodes_l1 =  100\n",
        "hidden_nodes_l2 = 30\n",
        "hidden_nodes_l3 = 10\n",
        "\n",
        "\n",
        "nn = tf.keras.models.Sequential()\n",
        "\n",
        "# First hidden layer\n",
        "nn.add(\n",
        "    tf.keras.layers.Dense(\n",
        "        units=hidden_nodes_l1,\n",
        "        input_dim=number_input_features,\n",
        "        activation='relu'\n",
        "        )\n",
        ")\n",
        "\n",
        "# Second hidden layer\n",
        "nn.add(\n",
        "    tf.keras.layers.Dense(\n",
        "        units=hidden_nodes_l2,\n",
        "        activation='sigmoid'\n",
        "        )\n",
        ")\n",
        "\n",
        "# third hidden layer\n",
        "nn.add(\n",
        "    tf.keras.layers.Dense(\n",
        "        units=hidden_nodes_l3,\n",
        "        activation='sigmoid'\n",
        "        )\n",
        ")\n",
        "\n",
        "# Output layer\n",
        "nn.add(\n",
        "    tf.keras.layers.Dense(\n",
        "        units=1,\n",
        "        activation='sigmoid'\n",
        "    )\n",
        ")\n",
        "\n",
        "# Check the structure of the model\n",
        "nn.summary()"
      ]
    },
    {
      "cell_type": "code",
      "execution_count": null,
      "metadata": {
        "id": "2a5cq79wWXWw"
      },
      "outputs": [],
      "source": [
        "# Compile the model\n",
        "nn.compile(loss='binary_crossentropy', optimizer='adam', metrics=['accuracy'])"
      ]
    },
    {
      "cell_type": "code",
      "execution_count": null,
      "metadata": {
        "colab": {
          "base_uri": "https://localhost:8080/"
        },
        "id": "xHVCKmPpWXWw",
        "outputId": "f7684125-72cb-4f79-da91-83dec16b97e2"
      },
      "outputs": [
        {
          "output_type": "stream",
          "name": "stdout",
          "text": [
            "Epoch 1/100\n",
            "804/804 [==============================] - 3s 2ms/step - loss: 0.5474 - accuracy: 0.7289\n",
            "Epoch 2/100\n",
            "804/804 [==============================] - 2s 2ms/step - loss: 0.5160 - accuracy: 0.7501\n",
            "Epoch 3/100\n",
            "804/804 [==============================] - 2s 2ms/step - loss: 0.5105 - accuracy: 0.7524\n",
            "Epoch 4/100\n",
            "804/804 [==============================] - 2s 3ms/step - loss: 0.5069 - accuracy: 0.7534\n",
            "Epoch 5/100\n",
            "804/804 [==============================] - 2s 2ms/step - loss: 0.5053 - accuracy: 0.7530\n",
            "Epoch 6/100\n",
            "804/804 [==============================] - 2s 2ms/step - loss: 0.5032 - accuracy: 0.7535\n",
            "Epoch 7/100\n",
            "804/804 [==============================] - 2s 2ms/step - loss: 0.5022 - accuracy: 0.7557\n",
            "Epoch 8/100\n",
            "804/804 [==============================] - 2s 2ms/step - loss: 0.5010 - accuracy: 0.7572\n",
            "Epoch 9/100\n",
            "804/804 [==============================] - 2s 2ms/step - loss: 0.4997 - accuracy: 0.7555\n",
            "Epoch 10/100\n",
            "804/804 [==============================] - 2s 2ms/step - loss: 0.4996 - accuracy: 0.7566\n",
            "Epoch 11/100\n",
            "804/804 [==============================] - 2s 2ms/step - loss: 0.4992 - accuracy: 0.7574\n",
            "Epoch 12/100\n",
            "804/804 [==============================] - 2s 3ms/step - loss: 0.4984 - accuracy: 0.7577\n",
            "Epoch 13/100\n",
            "804/804 [==============================] - 2s 2ms/step - loss: 0.4974 - accuracy: 0.7587\n",
            "Epoch 14/100\n",
            "804/804 [==============================] - 2s 2ms/step - loss: 0.4971 - accuracy: 0.7582\n",
            "Epoch 15/100\n",
            "804/804 [==============================] - 2s 2ms/step - loss: 0.4966 - accuracy: 0.7580\n",
            "Epoch 16/100\n",
            "804/804 [==============================] - 2s 2ms/step - loss: 0.4957 - accuracy: 0.7587\n",
            "Epoch 17/100\n",
            "804/804 [==============================] - 2s 2ms/step - loss: 0.4957 - accuracy: 0.7586\n",
            "Epoch 18/100\n",
            "804/804 [==============================] - 2s 2ms/step - loss: 0.4952 - accuracy: 0.7599\n",
            "Epoch 19/100\n",
            "804/804 [==============================] - 2s 3ms/step - loss: 0.4949 - accuracy: 0.7599\n",
            "Epoch 20/100\n",
            "804/804 [==============================] - 2s 2ms/step - loss: 0.4947 - accuracy: 0.7592\n",
            "Epoch 21/100\n",
            "804/804 [==============================] - 2s 2ms/step - loss: 0.4939 - accuracy: 0.7582\n",
            "Epoch 22/100\n",
            "804/804 [==============================] - 2s 2ms/step - loss: 0.4934 - accuracy: 0.7595\n",
            "Epoch 23/100\n",
            "804/804 [==============================] - 2s 2ms/step - loss: 0.4935 - accuracy: 0.7597\n",
            "Epoch 24/100\n",
            "804/804 [==============================] - 2s 2ms/step - loss: 0.4931 - accuracy: 0.7603\n",
            "Epoch 25/100\n",
            "804/804 [==============================] - 2s 2ms/step - loss: 0.4928 - accuracy: 0.7606\n",
            "Epoch 26/100\n",
            "804/804 [==============================] - 2s 3ms/step - loss: 0.4920 - accuracy: 0.7608\n",
            "Epoch 27/100\n",
            "804/804 [==============================] - 2s 3ms/step - loss: 0.4926 - accuracy: 0.7593\n",
            "Epoch 28/100\n",
            "804/804 [==============================] - 2s 2ms/step - loss: 0.4918 - accuracy: 0.7596\n",
            "Epoch 29/100\n",
            "804/804 [==============================] - 2s 2ms/step - loss: 0.4920 - accuracy: 0.7585\n",
            "Epoch 30/100\n",
            "804/804 [==============================] - 2s 2ms/step - loss: 0.4910 - accuracy: 0.7614\n",
            "Epoch 31/100\n",
            "804/804 [==============================] - 2s 2ms/step - loss: 0.4912 - accuracy: 0.7604\n",
            "Epoch 32/100\n",
            "804/804 [==============================] - 2s 2ms/step - loss: 0.4908 - accuracy: 0.7603\n",
            "Epoch 33/100\n",
            "804/804 [==============================] - 2s 3ms/step - loss: 0.4906 - accuracy: 0.7612\n",
            "Epoch 34/100\n",
            "804/804 [==============================] - 3s 3ms/step - loss: 0.4906 - accuracy: 0.7610\n",
            "Epoch 35/100\n",
            "804/804 [==============================] - 2s 2ms/step - loss: 0.4903 - accuracy: 0.7593\n",
            "Epoch 36/100\n",
            "804/804 [==============================] - 2s 2ms/step - loss: 0.4901 - accuracy: 0.7610\n",
            "Epoch 37/100\n",
            "804/804 [==============================] - 2s 2ms/step - loss: 0.4900 - accuracy: 0.7609\n",
            "Epoch 38/100\n",
            "804/804 [==============================] - 2s 2ms/step - loss: 0.4894 - accuracy: 0.7608\n",
            "Epoch 39/100\n",
            "804/804 [==============================] - 2s 2ms/step - loss: 0.4895 - accuracy: 0.7610\n",
            "Epoch 40/100\n",
            "804/804 [==============================] - 2s 2ms/step - loss: 0.4890 - accuracy: 0.7593\n",
            "Epoch 41/100\n",
            "804/804 [==============================] - 2s 3ms/step - loss: 0.4888 - accuracy: 0.7609\n",
            "Epoch 42/100\n",
            "804/804 [==============================] - 2s 2ms/step - loss: 0.4890 - accuracy: 0.7591\n",
            "Epoch 43/100\n",
            "804/804 [==============================] - 2s 2ms/step - loss: 0.4885 - accuracy: 0.7618\n",
            "Epoch 44/100\n",
            "804/804 [==============================] - 2s 2ms/step - loss: 0.4883 - accuracy: 0.7608\n",
            "Epoch 45/100\n",
            "804/804 [==============================] - 2s 2ms/step - loss: 0.4883 - accuracy: 0.7620\n",
            "Epoch 46/100\n",
            "804/804 [==============================] - 2s 2ms/step - loss: 0.4878 - accuracy: 0.7613\n",
            "Epoch 47/100\n",
            "804/804 [==============================] - 2s 2ms/step - loss: 0.4874 - accuracy: 0.7618\n",
            "Epoch 48/100\n",
            "804/804 [==============================] - 2s 2ms/step - loss: 0.4877 - accuracy: 0.7622\n",
            "Epoch 49/100\n",
            "804/804 [==============================] - 2s 3ms/step - loss: 0.4874 - accuracy: 0.7621\n",
            "Epoch 50/100\n",
            "804/804 [==============================] - 2s 2ms/step - loss: 0.4873 - accuracy: 0.7622\n",
            "Epoch 51/100\n",
            "804/804 [==============================] - 2s 2ms/step - loss: 0.4874 - accuracy: 0.7624\n",
            "Epoch 52/100\n",
            "804/804 [==============================] - 2s 2ms/step - loss: 0.4870 - accuracy: 0.7615\n",
            "Epoch 53/100\n",
            "804/804 [==============================] - 2s 2ms/step - loss: 0.4872 - accuracy: 0.7612\n",
            "Epoch 54/100\n",
            "804/804 [==============================] - 2s 2ms/step - loss: 0.4866 - accuracy: 0.7623\n",
            "Epoch 55/100\n",
            "804/804 [==============================] - 2s 2ms/step - loss: 0.4869 - accuracy: 0.7616\n",
            "Epoch 56/100\n",
            "804/804 [==============================] - 2s 2ms/step - loss: 0.4869 - accuracy: 0.7609\n",
            "Epoch 57/100\n",
            "804/804 [==============================] - 2s 3ms/step - loss: 0.4863 - accuracy: 0.7616\n",
            "Epoch 58/100\n",
            "804/804 [==============================] - 2s 2ms/step - loss: 0.4865 - accuracy: 0.7621\n",
            "Epoch 59/100\n",
            "804/804 [==============================] - 2s 2ms/step - loss: 0.4862 - accuracy: 0.7625\n",
            "Epoch 60/100\n",
            "804/804 [==============================] - 2s 2ms/step - loss: 0.4859 - accuracy: 0.7624\n",
            "Epoch 61/100\n",
            "804/804 [==============================] - 2s 2ms/step - loss: 0.4860 - accuracy: 0.7629\n",
            "Epoch 62/100\n",
            "804/804 [==============================] - 2s 2ms/step - loss: 0.4859 - accuracy: 0.7622\n",
            "Epoch 63/100\n",
            "804/804 [==============================] - 2s 2ms/step - loss: 0.4854 - accuracy: 0.7620\n",
            "Epoch 64/100\n",
            "804/804 [==============================] - 2s 3ms/step - loss: 0.4855 - accuracy: 0.7625\n",
            "Epoch 65/100\n",
            "804/804 [==============================] - 2s 2ms/step - loss: 0.4855 - accuracy: 0.7617\n",
            "Epoch 66/100\n",
            "804/804 [==============================] - 2s 2ms/step - loss: 0.4856 - accuracy: 0.7628\n",
            "Epoch 67/100\n",
            "804/804 [==============================] - 2s 2ms/step - loss: 0.4852 - accuracy: 0.7630\n",
            "Epoch 68/100\n",
            "804/804 [==============================] - 2s 2ms/step - loss: 0.4849 - accuracy: 0.7622\n",
            "Epoch 69/100\n",
            "804/804 [==============================] - 2s 2ms/step - loss: 0.4851 - accuracy: 0.7620\n",
            "Epoch 70/100\n",
            "804/804 [==============================] - 2s 2ms/step - loss: 0.4849 - accuracy: 0.7619\n",
            "Epoch 71/100\n",
            "804/804 [==============================] - 2s 2ms/step - loss: 0.4850 - accuracy: 0.7621\n",
            "Epoch 72/100\n",
            "804/804 [==============================] - 2s 3ms/step - loss: 0.4848 - accuracy: 0.7622\n",
            "Epoch 73/100\n",
            "804/804 [==============================] - 2s 2ms/step - loss: 0.4848 - accuracy: 0.7625\n",
            "Epoch 74/100\n",
            "804/804 [==============================] - 2s 2ms/step - loss: 0.4847 - accuracy: 0.7622\n",
            "Epoch 75/100\n",
            "804/804 [==============================] - 2s 2ms/step - loss: 0.4846 - accuracy: 0.7630\n",
            "Epoch 76/100\n",
            "804/804 [==============================] - 2s 2ms/step - loss: 0.4843 - accuracy: 0.7631\n",
            "Epoch 77/100\n",
            "804/804 [==============================] - 2s 2ms/step - loss: 0.4844 - accuracy: 0.7632\n",
            "Epoch 78/100\n",
            "804/804 [==============================] - 2s 2ms/step - loss: 0.4844 - accuracy: 0.7629\n",
            "Epoch 79/100\n",
            "804/804 [==============================] - 2s 3ms/step - loss: 0.4843 - accuracy: 0.7632\n",
            "Epoch 80/100\n",
            "804/804 [==============================] - 2s 3ms/step - loss: 0.4839 - accuracy: 0.7628\n",
            "Epoch 81/100\n",
            "804/804 [==============================] - 2s 2ms/step - loss: 0.4841 - accuracy: 0.7626\n",
            "Epoch 82/100\n",
            "804/804 [==============================] - 2s 2ms/step - loss: 0.4842 - accuracy: 0.7627\n",
            "Epoch 83/100\n",
            "804/804 [==============================] - 2s 2ms/step - loss: 0.4839 - accuracy: 0.7632\n",
            "Epoch 84/100\n",
            "804/804 [==============================] - 2s 2ms/step - loss: 0.4840 - accuracy: 0.7622\n",
            "Epoch 85/100\n",
            "804/804 [==============================] - 2s 2ms/step - loss: 0.4841 - accuracy: 0.7630\n",
            "Epoch 86/100\n",
            "804/804 [==============================] - 2s 2ms/step - loss: 0.4838 - accuracy: 0.7638\n",
            "Epoch 87/100\n",
            "804/804 [==============================] - 2s 3ms/step - loss: 0.4839 - accuracy: 0.7627\n",
            "Epoch 88/100\n",
            "804/804 [==============================] - 2s 2ms/step - loss: 0.4838 - accuracy: 0.7628\n",
            "Epoch 89/100\n",
            "804/804 [==============================] - 2s 2ms/step - loss: 0.4835 - accuracy: 0.7628\n",
            "Epoch 90/100\n",
            "804/804 [==============================] - 2s 2ms/step - loss: 0.4834 - accuracy: 0.7632\n",
            "Epoch 91/100\n",
            "804/804 [==============================] - 2s 2ms/step - loss: 0.4834 - accuracy: 0.7633\n",
            "Epoch 92/100\n",
            "804/804 [==============================] - 2s 3ms/step - loss: 0.4832 - accuracy: 0.7638\n",
            "Epoch 93/100\n",
            "804/804 [==============================] - 3s 4ms/step - loss: 0.4830 - accuracy: 0.7630\n",
            "Epoch 94/100\n",
            "804/804 [==============================] - 4s 5ms/step - loss: 0.4833 - accuracy: 0.7630\n",
            "Epoch 95/100\n",
            "804/804 [==============================] - 2s 2ms/step - loss: 0.4834 - accuracy: 0.7633\n",
            "Epoch 96/100\n",
            "804/804 [==============================] - 2s 2ms/step - loss: 0.4833 - accuracy: 0.7626\n",
            "Epoch 97/100\n",
            "804/804 [==============================] - 2s 2ms/step - loss: 0.4832 - accuracy: 0.7629\n",
            "Epoch 98/100\n",
            "804/804 [==============================] - 2s 2ms/step - loss: 0.4829 - accuracy: 0.7632\n",
            "Epoch 99/100\n",
            "804/804 [==============================] - 2s 2ms/step - loss: 0.4830 - accuracy: 0.7639\n",
            "Epoch 100/100\n",
            "804/804 [==============================] - 2s 3ms/step - loss: 0.4828 - accuracy: 0.7638\n"
          ]
        }
      ],
      "source": [
        "# Train the model\n",
        "fitted = nn.fit(X_train_scaled,y_train,epochs=100)"
      ]
    },
    {
      "cell_type": "code",
      "execution_count": null,
      "metadata": {
        "colab": {
          "base_uri": "https://localhost:8080/"
        },
        "id": "Jrc5q7jhWXWw",
        "outputId": "50e7e4ed-cee9-49c5-c481-d4e16e4738dc"
      },
      "outputs": [
        {
          "output_type": "stream",
          "name": "stdout",
          "text": [
            "268/268 - 1s - loss: 0.5137 - accuracy: 0.7478 - 541ms/epoch - 2ms/step\n",
            "Loss: 0.5136846899986267, Accuracy: 0.7477551102638245\n"
          ]
        }
      ],
      "source": [
        "# Evaluate the model using the test data\n",
        "model_loss, model_accuracy = nn.evaluate(X_test_scaled,y_test,verbose=2)\n",
        "print(f\"Loss: {model_loss}, Accuracy: {model_accuracy}\")"
      ]
    },
    {
      "cell_type": "code",
      "execution_count": null,
      "metadata": {
        "id": "z-BuRgE1WXWw"
      },
      "outputs": [],
      "source": [
        "# Export our model to HDF5 file\n",
        "nn.save(\"AlphabetSoupCharityOptimized.h5\")"
      ]
    }
  ],
  "metadata": {
    "kernelspec": {
      "display_name": "PythonData",
      "language": "python",
      "name": "pythondata"
    },
    "language_info": {
      "codemirror_mode": {
        "name": "ipython",
        "version": 3
      },
      "file_extension": ".py",
      "mimetype": "text/x-python",
      "name": "python",
      "nbconvert_exporter": "python",
      "pygments_lexer": "ipython3",
      "version": "3.9.13"
    },
    "vscode": {
      "interpreter": {
        "hash": "31f2aee4e71d21fbe5cf8b01ff0e069b9275f58929596ceb00d14d90e3e16cd6"
      }
    },
    "colab": {
      "provenance": [],
      "include_colab_link": true
    }
  },
  "nbformat": 4,
  "nbformat_minor": 0
}